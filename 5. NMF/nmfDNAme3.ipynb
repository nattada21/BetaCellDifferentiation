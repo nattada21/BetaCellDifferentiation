{
 "cells": [
  {
   "cell_type": "code",
   "execution_count": 1,
   "id": "82e605dc",
   "metadata": {},
   "outputs": [
    {
     "name": "stderr",
     "output_type": "stream",
     "text": [
      "Loading required package: registry\n",
      "\n",
      "Loading required package: rngtools\n",
      "\n",
      "Loading required package: cluster\n",
      "\n",
      "NMF - BioConductor layer [OK] | Shared memory capabilities [NO: bigmemory] | Cores 2/2\n",
      "\n",
      "  To enable shared memory capabilities, try: install.extras('\n",
      "NMF\n",
      "')\n",
      "\n"
     ]
    }
   ],
   "source": [
    "library(NMF)"
   ]
  },
  {
   "cell_type": "code",
   "execution_count": 2,
   "id": "4b1ac0a7",
   "metadata": {
    "scrolled": true
   },
   "outputs": [
    {
     "data": {
      "text/html": [
       "<table class=\"dataframe\">\n",
       "<caption>A data.frame: 6 × 12</caption>\n",
       "<thead>\n",
       "\t<tr><th></th><th scope=col>D00</th><th scope=col>D04</th><th scope=col>D07</th><th scope=col>ENP1</th><th scope=col>ENP2</th><th scope=col>ENP3</th><th scope=col>ENP.Alpha</th><th scope=col>PP1_2</th><th scope=col>SC.Alpha_D22</th><th scope=col>SC.Alpha</th><th scope=col>SC.Beta</th><th scope=col>SC.EC</th></tr>\n",
       "\t<tr><th></th><th scope=col>&lt;dbl&gt;</th><th scope=col>&lt;dbl&gt;</th><th scope=col>&lt;dbl&gt;</th><th scope=col>&lt;dbl&gt;</th><th scope=col>&lt;dbl&gt;</th><th scope=col>&lt;dbl&gt;</th><th scope=col>&lt;dbl&gt;</th><th scope=col>&lt;dbl&gt;</th><th scope=col>&lt;dbl&gt;</th><th scope=col>&lt;dbl&gt;</th><th scope=col>&lt;dbl&gt;</th><th scope=col>&lt;dbl&gt;</th></tr>\n",
       "</thead>\n",
       "<tbody>\n",
       "\t<tr><th scope=row>chr1:9838-10289</th><td> 1.2854503</td><td>37.703722</td><td> 15.2317240</td><td>21.916367</td><td>  49.790052</td><td>0.000000</td><td>2.5709006</td><td>3.648747</td><td>  0.000000</td><td>0.000000</td><td> 5.4790918</td><td>4.0914772</td></tr>\n",
       "\t<tr><th scope=row>chr1:17004-17296</th><td>19.1784116</td><td> 4.083012</td><td>212.9018522</td><td> 3.380937</td><td>   2.416223</td><td>2.550116</td><td>2.2128936</td><td>7.145270</td><td>851.607409</td><td>0.000000</td><td> 0.8452342</td><td>2.5501162</td></tr>\n",
       "\t<tr><th scope=row>chr1:28423-28779</th><td> 6.8542758</td><td>11.345936</td><td> 43.8327343</td><td> 0.000000</td><td>   1.285450</td><td>2.432498</td><td>0.7615862</td><td>0.000000</td><td> 10.958184</td><td>0.000000</td><td>10.2286931</td><td>0.0000000</td></tr>\n",
       "\t<tr><th scope=row>chr1:39794-40086</th><td> 0.0000000</td><td> 0.000000</td><td>  0.8452342</td><td> 0.000000</td><td>   0.000000</td><td>1.020753</td><td>0.0000000</td><td>0.000000</td><td>  0.000000</td><td>0.000000</td><td>15.3006969</td><td>0.0000000</td></tr>\n",
       "\t<tr><th scope=row>chr1:56786-57076</th><td> 0.0000000</td><td> 0.000000</td><td>  0.0000000</td><td> 0.000000</td><td>   0.000000</td><td>0.000000</td><td>0.0000000</td><td>0.000000</td><td> 10.228693</td><td>0.000000</td><td> 0.0000000</td><td>0.0000000</td></tr>\n",
       "\t<tr><th scope=row>chr1:98881-99218</th><td> 0.8452342</td><td> 2.416223</td><td>  7.6503485</td><td> 0.000000</td><td>1703.214818</td><td>4.273519</td><td>7.6071081</td><td>4.832447</td><td>  2.550116</td><td>2.950525</td><td> 2.0415059</td><td>0.8547038</td></tr>\n",
       "</tbody>\n",
       "</table>\n"
      ],
      "text/latex": [
       "A data.frame: 6 × 12\n",
       "\\begin{tabular}{r|llllllllllll}\n",
       "  & D00 & D04 & D07 & ENP1 & ENP2 & ENP3 & ENP.Alpha & PP1\\_2 & SC.Alpha\\_D22 & SC.Alpha & SC.Beta & SC.EC\\\\\n",
       "  & <dbl> & <dbl> & <dbl> & <dbl> & <dbl> & <dbl> & <dbl> & <dbl> & <dbl> & <dbl> & <dbl> & <dbl>\\\\\n",
       "\\hline\n",
       "\tchr1:9838-10289 &  1.2854503 & 37.703722 &  15.2317240 & 21.916367 &   49.790052 & 0.000000 & 2.5709006 & 3.648747 &   0.000000 & 0.000000 &  5.4790918 & 4.0914772\\\\\n",
       "\tchr1:17004-17296 & 19.1784116 &  4.083012 & 212.9018522 &  3.380937 &    2.416223 & 2.550116 & 2.2128936 & 7.145270 & 851.607409 & 0.000000 &  0.8452342 & 2.5501162\\\\\n",
       "\tchr1:28423-28779 &  6.8542758 & 11.345936 &  43.8327343 &  0.000000 &    1.285450 & 2.432498 & 0.7615862 & 0.000000 &  10.958184 & 0.000000 & 10.2286931 & 0.0000000\\\\\n",
       "\tchr1:39794-40086 &  0.0000000 &  0.000000 &   0.8452342 &  0.000000 &    0.000000 & 1.020753 & 0.0000000 & 0.000000 &   0.000000 & 0.000000 & 15.3006969 & 0.0000000\\\\\n",
       "\tchr1:56786-57076 &  0.0000000 &  0.000000 &   0.0000000 &  0.000000 &    0.000000 & 0.000000 & 0.0000000 & 0.000000 &  10.228693 & 0.000000 &  0.0000000 & 0.0000000\\\\\n",
       "\tchr1:98881-99218 &  0.8452342 &  2.416223 &   7.6503485 &  0.000000 & 1703.214818 & 4.273519 & 7.6071081 & 4.832447 &   2.550116 & 2.950525 &  2.0415059 & 0.8547038\\\\\n",
       "\\end{tabular}\n"
      ],
      "text/markdown": [
       "\n",
       "A data.frame: 6 × 12\n",
       "\n",
       "| <!--/--> | D00 &lt;dbl&gt; | D04 &lt;dbl&gt; | D07 &lt;dbl&gt; | ENP1 &lt;dbl&gt; | ENP2 &lt;dbl&gt; | ENP3 &lt;dbl&gt; | ENP.Alpha &lt;dbl&gt; | PP1_2 &lt;dbl&gt; | SC.Alpha_D22 &lt;dbl&gt; | SC.Alpha &lt;dbl&gt; | SC.Beta &lt;dbl&gt; | SC.EC &lt;dbl&gt; |\n",
       "|---|---|---|---|---|---|---|---|---|---|---|---|---|\n",
       "| chr1:9838-10289 |  1.2854503 | 37.703722 |  15.2317240 | 21.916367 |   49.790052 | 0.000000 | 2.5709006 | 3.648747 |   0.000000 | 0.000000 |  5.4790918 | 4.0914772 |\n",
       "| chr1:17004-17296 | 19.1784116 |  4.083012 | 212.9018522 |  3.380937 |    2.416223 | 2.550116 | 2.2128936 | 7.145270 | 851.607409 | 0.000000 |  0.8452342 | 2.5501162 |\n",
       "| chr1:28423-28779 |  6.8542758 | 11.345936 |  43.8327343 |  0.000000 |    1.285450 | 2.432498 | 0.7615862 | 0.000000 |  10.958184 | 0.000000 | 10.2286931 | 0.0000000 |\n",
       "| chr1:39794-40086 |  0.0000000 |  0.000000 |   0.8452342 |  0.000000 |    0.000000 | 1.020753 | 0.0000000 | 0.000000 |   0.000000 | 0.000000 | 15.3006969 | 0.0000000 |\n",
       "| chr1:56786-57076 |  0.0000000 |  0.000000 |   0.0000000 |  0.000000 |    0.000000 | 0.000000 | 0.0000000 | 0.000000 |  10.228693 | 0.000000 |  0.0000000 | 0.0000000 |\n",
       "| chr1:98881-99218 |  0.8452342 |  2.416223 |   7.6503485 |  0.000000 | 1703.214818 | 4.273519 | 7.6071081 | 4.832447 |   2.550116 | 2.950525 |  2.0415059 | 0.8547038 |\n",
       "\n"
      ],
      "text/plain": [
       "                 D00        D04       D07         ENP1      ENP2       \n",
       "chr1:9838-10289   1.2854503 37.703722  15.2317240 21.916367   49.790052\n",
       "chr1:17004-17296 19.1784116  4.083012 212.9018522  3.380937    2.416223\n",
       "chr1:28423-28779  6.8542758 11.345936  43.8327343  0.000000    1.285450\n",
       "chr1:39794-40086  0.0000000  0.000000   0.8452342  0.000000    0.000000\n",
       "chr1:56786-57076  0.0000000  0.000000   0.0000000  0.000000    0.000000\n",
       "chr1:98881-99218  0.8452342  2.416223   7.6503485  0.000000 1703.214818\n",
       "                 ENP3     ENP.Alpha PP1_2    SC.Alpha_D22 SC.Alpha SC.Beta   \n",
       "chr1:9838-10289  0.000000 2.5709006 3.648747   0.000000   0.000000  5.4790918\n",
       "chr1:17004-17296 2.550116 2.2128936 7.145270 851.607409   0.000000  0.8452342\n",
       "chr1:28423-28779 2.432498 0.7615862 0.000000  10.958184   0.000000 10.2286931\n",
       "chr1:39794-40086 1.020753 0.0000000 0.000000   0.000000   0.000000 15.3006969\n",
       "chr1:56786-57076 0.000000 0.0000000 0.000000  10.228693   0.000000  0.0000000\n",
       "chr1:98881-99218 4.273519 7.6071081 4.832447   2.550116   2.950525  2.0415059\n",
       "                 SC.EC    \n",
       "chr1:9838-10289  4.0914772\n",
       "chr1:17004-17296 2.5501162\n",
       "chr1:28423-28779 0.0000000\n",
       "chr1:39794-40086 0.0000000\n",
       "chr1:56786-57076 0.0000000\n",
       "chr1:98881-99218 0.8547038"
      ]
     },
     "metadata": {},
     "output_type": "display_data"
    }
   ],
   "source": [
    "data <- read.table(\"DNAme3CPM.tsv\", header = TRUE, sep = \"\\t\", row.names = 1 )\n",
    "head(data)"
   ]
  },
  {
   "cell_type": "code",
   "execution_count": 3,
   "id": "a9de4b7d",
   "metadata": {},
   "outputs": [
    {
     "data": {
      "text/html": [
       "<style>\n",
       ".list-inline {list-style: none; margin:0; padding: 0}\n",
       ".list-inline>li {display: inline-block}\n",
       ".list-inline>li:not(:last-child)::after {content: \"\\00b7\"; padding: 0 .5ex}\n",
       "</style>\n",
       "<ol class=list-inline><li>158194</li><li>12</li></ol>\n"
      ],
      "text/latex": [
       "\\begin{enumerate*}\n",
       "\\item 158194\n",
       "\\item 12\n",
       "\\end{enumerate*}\n"
      ],
      "text/markdown": [
       "1. 158194\n",
       "2. 12\n",
       "\n",
       "\n"
      ],
      "text/plain": [
       "[1] 158194     12"
      ]
     },
     "metadata": {},
     "output_type": "display_data"
    }
   ],
   "source": [
    "dim(data)"
   ]
  },
  {
   "cell_type": "code",
   "execution_count": 4,
   "id": "5c746046",
   "metadata": {},
   "outputs": [],
   "source": [
    "num_clusters <- 12\n",
    "\n",
    "nmf_result <- nmf(data, rank = num_clusters)"
   ]
  },
  {
   "cell_type": "code",
   "execution_count": 15,
   "id": "20b7e0d1",
   "metadata": {},
   "outputs": [],
   "source": [
    "#nmf_result <- readRDS(\"nmf_DNAme3.rds\")"
   ]
  },
  {
   "cell_type": "code",
   "execution_count": 5,
   "id": "6bd61625",
   "metadata": {},
   "outputs": [
    {
     "name": "stdout",
     "output_type": "stream",
     "text": [
      " [1] \"D00\"          \"D04\"          \"D07\"          \"ENP1\"         \"ENP2\"        \n",
      " [6] \"ENP3\"         \"ENP.Alpha\"    \"PP1_2\"        \"SC.Alpha_D22\" \"SC.Alpha\"    \n",
      "[11] \"SC.Beta\"      \"SC.EC\"       \n",
      " [1] \"D00\"          \"D04\"          \"D07\"          \"ENP1\"         \"ENP2\"        \n",
      " [6] \"ENP3\"         \"ENP_alpha\"    \"PP1-2\"        \"SC_alpha D22\" \"SC_alpha\"    \n",
      "[11] \"SC_beta\"      \"SCEC\"        \n"
     ]
    }
   ],
   "source": [
    "print(colnames(nmf_result))\n",
    "new_col <- c(\"D00\", \"D04\", \"D07\", \"ENP1\", \"ENP2\", \"ENP3\", \"ENP_alpha\", \"PP1-2\", \"SC_alpha D22\", \"SC_alpha\", \"SC_beta\", \"SCEC\")\n",
    "colnames(nmf_result) <- new_col\n",
    "print(colnames(nmf_result))"
   ]
  },
  {
   "cell_type": "code",
   "execution_count": 6,
   "id": "13c36d51",
   "metadata": {},
   "outputs": [],
   "source": [
    "H <- nmf_result@fit@H\n",
    "W <- nmf_result@fit@W\n",
    "X <- W %*% H"
   ]
  },
  {
   "cell_type": "code",
   "execution_count": 7,
   "id": "7b3b1262",
   "metadata": {},
   "outputs": [
    {
     "data": {
      "image/png": "[encoded data removed]",
      "text/plain": [
       "plot without title"
      ]
     },
     "metadata": {
      "image/png": {
       "height": 420,
       "width": 420
      }
     },
     "output_type": "display_data"
    }
   ],
   "source": [
    "reorder <- c(1, 2, 3, 8, 4, 7, 5, 6, 9, 10, 12, 11)\n",
    "H <- H[, reorder]\n",
    "heatmap(H, Colv=NA, Rowv=NA, revC = T)"
   ]
  },
  {
   "cell_type": "code",
   "execution_count": 8,
   "id": "2e1c5523-052d-4026-b39c-aa98cf55ab3c",
   "metadata": {},
   "outputs": [
    {
     "data": {
      "image/png": "[encoded data removed]",
      "text/plain": [
       "plot without title"
      ]
     },
     "metadata": {
      "image/png": {
       "height": 420,
       "width": 420
      }
     },
     "output_type": "display_data"
    }
   ],
   "source": [
    "order<-c(5,7,12,4,9,6,8,1,2,3,10,11)\n",
    "or<-H\n",
    "rownames(or)<-c(1:12)\n",
    "or<-or[order,]\n",
    "heatmap(or, Colv=NA, Rowv=NA, revC = T, scale=\"none\")"
   ]
  },
  {
   "cell_type": "code",
   "execution_count": 9,
   "id": "6970d8a5",
   "metadata": {},
   "outputs": [
    {
     "data": {
      "image/png": "[encoded data removed]",
      "text/plain": [
       "Plot with title “Histogram of fs”"
      ]
     },
     "metadata": {
      "image/png": {
       "height": 420,
       "width": 420
      }
     },
     "output_type": "display_data"
    }
   ],
   "source": [
    "fs<-featureScore(nmf_result, method=\"kim\")\n",
    "hist(fs, breaks=100)"
   ]
  },
  {
   "cell_type": "code",
   "execution_count": 10,
   "id": "bbf363e2",
   "metadata": {},
   "outputs": [],
   "source": [
    "maxID<-apply(W, 1, which.max)"
   ]
  },
  {
   "cell_type": "code",
   "execution_count": 11,
   "id": "5e55e2f1",
   "metadata": {},
   "outputs": [
    {
     "data": {
      "text/html": [
       "<style>\n",
       ".dl-inline {width: auto; margin:0; padding: 0}\n",
       ".dl-inline>dt, .dl-inline>dd {float: none; width: auto; display: inline-block}\n",
       ".dl-inline>dt::after {content: \":\\0020\"; padding-right: .5ex}\n",
       ".dl-inline>dt:not(:first-of-type) {padding-left: .5ex}\n",
       "</style><dl class=dl-inline><dt>chr1:9838-10289</dt><dd>0.283243494449526</dd><dt>chr1:17004-17296</dt><dd>0.725336868034582</dd><dt>chr1:28423-28779</dt><dd>0.345072834159957</dd><dt>chr1:39794-40086</dt><dd>0.824596028334705</dd><dt>chr1:56786-57076</dt><dd>1</dd><dt>chr1:98881-99218</dt><dd>0.917006250449385</dd></dl>\n"
      ],
      "text/latex": [
       "\\begin{description*}\n",
       "\\item[chr1:9838-10289] 0.283243494449526\n",
       "\\item[chr1:17004-17296] 0.725336868034582\n",
       "\\item[chr1:28423-28779] 0.345072834159957\n",
       "\\item[chr1:39794-40086] 0.824596028334705\n",
       "\\item[chr1:56786-57076] 1\n",
       "\\item[chr1:98881-99218] 0.917006250449385\n",
       "\\end{description*}\n"
      ],
      "text/markdown": [
       "chr1:9838-10289\n",
       ":   0.283243494449526chr1:17004-17296\n",
       ":   0.725336868034582chr1:28423-28779\n",
       ":   0.345072834159957chr1:39794-40086\n",
       ":   0.824596028334705chr1:56786-57076\n",
       ":   1chr1:98881-99218\n",
       ":   0.917006250449385\n",
       "\n"
      ],
      "text/plain": [
       " chr1:9838-10289 chr1:17004-17296 chr1:28423-28779 chr1:39794-40086 \n",
       "       0.2832435        0.7253369        0.3450728        0.8245960 \n",
       "chr1:56786-57076 chr1:98881-99218 \n",
       "       1.0000000        0.9170063 "
      ]
     },
     "metadata": {},
     "output_type": "display_data"
    },
    {
     "data": {
      "text/html": [
       "<style>\n",
       ".list-inline {list-style: none; margin:0; padding: 0}\n",
       ".list-inline>li {display: inline-block}\n",
       ".list-inline>li:not(:last-child)::after {content: \"\\00b7\"; padding: 0 .5ex}\n",
       "</style>\n",
       "<ol class=list-inline><li>'chrY:57194529-57194888'</li><li>'chrY:26436643-26437145'</li><li>'chrY:25386183-25386475'</li><li>'chrY:25331649-25331940'</li><li>'chrY:25154021-25154312'</li><li>'chrY:24515792-24516187'</li></ol>\n"
      ],
      "text/latex": [
       "\\begin{enumerate*}\n",
       "\\item 'chrY:57194529-57194888'\n",
       "\\item 'chrY:26436643-26437145'\n",
       "\\item 'chrY:25386183-25386475'\n",
       "\\item 'chrY:25331649-25331940'\n",
       "\\item 'chrY:25154021-25154312'\n",
       "\\item 'chrY:24515792-24516187'\n",
       "\\end{enumerate*}\n"
      ],
      "text/markdown": [
       "1. 'chrY:57194529-57194888'\n",
       "2. 'chrY:26436643-26437145'\n",
       "3. 'chrY:25386183-25386475'\n",
       "4. 'chrY:25331649-25331940'\n",
       "5. 'chrY:25154021-25154312'\n",
       "6. 'chrY:24515792-24516187'\n",
       "\n",
       "\n"
      ],
      "text/plain": [
       "[1] \"chrY:57194529-57194888\" \"chrY:26436643-26437145\" \"chrY:25386183-25386475\"\n",
       "[4] \"chrY:25331649-25331940\" \"chrY:25154021-25154312\" \"chrY:24515792-24516187\""
      ]
     },
     "metadata": {},
     "output_type": "display_data"
    }
   ],
   "source": [
    "head(fs)\n",
    "head(names(rev(sort(fs))))"
   ]
  },
  {
   "cell_type": "code",
   "execution_count": 12,
   "id": "c4adc7b6",
   "metadata": {},
   "outputs": [],
   "source": [
    "data1<-data[rev(sort(fs)),]\n",
    "#print(fs)\n",
    "fs<-fs[rownames(data)]\n",
    "maxID<-maxID[rownames(data)]"
   ]
  },
  {
   "cell_type": "code",
   "execution_count": 13,
   "id": "1d0bd18a",
   "metadata": {},
   "outputs": [],
   "source": [
    "order<-c(5,7,12,4,9,6,8,1,2,3,10,11)\n",
    "i=1\n",
    "data.sort<-data[names(maxID[maxID==order[i]]),]\n",
    "for(i in 2:(length(order))){\n",
    "   data.sort<-rbind(data.sort,data[names(maxID[maxID==order[i]]),])\n",
    "   }"
   ]
  },
  {
   "cell_type": "code",
   "execution_count": null,
   "id": "18a666b3",
   "metadata": {},
   "outputs": [],
   "source": [
    "options(repr.plot.width=8, repr.plot.height=8)\n",
    "sample<-sort(sample(c(1:dim(data.sort)[1]), 50000)) \n",
    "\n",
    "## subsample heatmap\n",
    "data.sort.sub<-as.matrix(data.sort[sample,])\n",
    "maxID.sub<-maxID[rownames(data.sort.sub)]\n",
    "\n",
    "## define module color\n",
    "library(RColorBrewer)\n",
    "col<-c(brewer.pal(name=\"Set1\", n=9), brewer.pal(name=\"Set3\", n=8), brewer.pal(name=\"Set2\", n=7))\n",
    "\n",
    "heatmap(data.sort.sub[, reorder], Colv=NA, Rowv=NA, scale=\"row\", revC =  T, labRow = F, RowSideColors =  col[maxID.sub])\n",
    "data.sort.sublog<-log10(data.sort.sub+1)\n",
    "maxcpm<-4\n",
    "data.sort.sublog[data.sort.sublog>maxcpm]<-maxcpm\n",
    "heatmap(data.sort.sublog, Colv=NA, Rowv=NA, scale=\"none\", revC =  T, labRow = F, RowSideColors =  col[maxID.sub])"
   ]
  },
  {
   "cell_type": "code",
   "execution_count": 62,
   "id": "46ecc6c5",
   "metadata": {},
   "outputs": [
    {
     "data": {
      "text/html": [
       "<table class=\"dataframe\">\n",
       "<caption>A matrix: 6 × 12 of type dbl</caption>\n",
       "<thead>\n",
       "\t<tr><th></th><th scope=col>D00</th><th scope=col>D04</th><th scope=col>D07</th><th scope=col>PP1_2</th><th scope=col>ENP1</th><th scope=col>ENP2</th><th scope=col>ENP3</th><th scope=col>ENP.Alpha</th><th scope=col>SC.Alpha_D22</th><th scope=col>SC.Alpha</th><th scope=col>SC.Beta</th><th scope=col>SC.EC</th></tr>\n",
       "</thead>\n",
       "<tbody>\n",
       "\t<tr><th scope=row>chr1:1053227-1053671</th><td> 199.16021</td><td>24.548863</td><td> 3.213626</td><td>45.006250</td><td>0</td><td>14.587632</td><td>10.958184</td><td>0.000000</td><td>0.6427252</td><td>2.432498</td><td>0.000000</td><td>16.437275</td></tr>\n",
       "\t<tr><th scope=row>chr1:1195403-1195746</th><td> 109.58184</td><td> 0.000000</td><td> 2.045739</td><td> 0.000000</td><td>0</td><td> 0.000000</td><td> 1.620848</td><td>0.000000</td><td>0.0000000</td><td>0.000000</td><td>0.000000</td><td> 0.000000</td></tr>\n",
       "\t<tr><th scope=row>chr1:1205898-1206250</th><td>  58.35053</td><td>10.958184</td><td>49.790052</td><td>32.874551</td><td>0</td><td> 0.000000</td><td> 0.000000</td><td>1.620848</td><td>0.0000000</td><td>6.137216</td><td>1.928175</td><td> 0.000000</td></tr>\n",
       "\t<tr><th scope=row>chr1:1435354-1435890</th><td>2767.72408</td><td> 0.000000</td><td> 0.000000</td><td> 0.000000</td><td>0</td><td> 0.000000</td><td> 0.000000</td><td>0.000000</td><td>0.0000000</td><td>0.000000</td><td>0.000000</td><td> 0.000000</td></tr>\n",
       "\t<tr><th scope=row>chr1:1612720-1613014</th><td>  10.20046</td><td> 0.000000</td><td> 1.020753</td><td> 1.475262</td><td>0</td><td> 4.226171</td><td> 0.000000</td><td>0.000000</td><td>0.0000000</td><td>0.000000</td><td>0.000000</td><td> 2.416223</td></tr>\n",
       "\t<tr><th scope=row>chr1:1633566-1633954</th><td>  12.21178</td><td> 6.081245</td><td> 0.000000</td><td> 3.648747</td><td>0</td><td> 0.000000</td><td> 0.000000</td><td>0.000000</td><td>0.0000000</td><td>0.000000</td><td>0.000000</td><td> 0.000000</td></tr>\n",
       "</tbody>\n",
       "</table>\n"
      ],
      "text/latex": [
       "A matrix: 6 × 12 of type dbl\n",
       "\\begin{tabular}{r|llllllllllll}\n",
       "  & D00 & D04 & D07 & PP1\\_2 & ENP1 & ENP2 & ENP3 & ENP.Alpha & SC.Alpha\\_D22 & SC.Alpha & SC.Beta & SC.EC\\\\\n",
       "\\hline\n",
       "\tchr1:1053227-1053671 &  199.16021 & 24.548863 &  3.213626 & 45.006250 & 0 & 14.587632 & 10.958184 & 0.000000 & 0.6427252 & 2.432498 & 0.000000 & 16.437275\\\\\n",
       "\tchr1:1195403-1195746 &  109.58184 &  0.000000 &  2.045739 &  0.000000 & 0 &  0.000000 &  1.620848 & 0.000000 & 0.0000000 & 0.000000 & 0.000000 &  0.000000\\\\\n",
       "\tchr1:1205898-1206250 &   58.35053 & 10.958184 & 49.790052 & 32.874551 & 0 &  0.000000 &  0.000000 & 1.620848 & 0.0000000 & 6.137216 & 1.928175 &  0.000000\\\\\n",
       "\tchr1:1435354-1435890 & 2767.72408 &  0.000000 &  0.000000 &  0.000000 & 0 &  0.000000 &  0.000000 & 0.000000 & 0.0000000 & 0.000000 & 0.000000 &  0.000000\\\\\n",
       "\tchr1:1612720-1613014 &   10.20046 &  0.000000 &  1.020753 &  1.475262 & 0 &  4.226171 &  0.000000 & 0.000000 & 0.0000000 & 0.000000 & 0.000000 &  2.416223\\\\\n",
       "\tchr1:1633566-1633954 &   12.21178 &  6.081245 &  0.000000 &  3.648747 & 0 &  0.000000 &  0.000000 & 0.000000 & 0.0000000 & 0.000000 & 0.000000 &  0.000000\\\\\n",
       "\\end{tabular}\n"
      ],
      "text/markdown": [
       "\n",
       "A matrix: 6 × 12 of type dbl\n",
       "\n",
       "| <!--/--> | D00 | D04 | D07 | PP1_2 | ENP1 | ENP2 | ENP3 | ENP.Alpha | SC.Alpha_D22 | SC.Alpha | SC.Beta | SC.EC |\n",
       "|---|---|---|---|---|---|---|---|---|---|---|---|---|\n",
       "| chr1:1053227-1053671 |  199.16021 | 24.548863 |  3.213626 | 45.006250 | 0 | 14.587632 | 10.958184 | 0.000000 | 0.6427252 | 2.432498 | 0.000000 | 16.437275 |\n",
       "| chr1:1195403-1195746 |  109.58184 |  0.000000 |  2.045739 |  0.000000 | 0 |  0.000000 |  1.620848 | 0.000000 | 0.0000000 | 0.000000 | 0.000000 |  0.000000 |\n",
       "| chr1:1205898-1206250 |   58.35053 | 10.958184 | 49.790052 | 32.874551 | 0 |  0.000000 |  0.000000 | 1.620848 | 0.0000000 | 6.137216 | 1.928175 |  0.000000 |\n",
       "| chr1:1435354-1435890 | 2767.72408 |  0.000000 |  0.000000 |  0.000000 | 0 |  0.000000 |  0.000000 | 0.000000 | 0.0000000 | 0.000000 | 0.000000 |  0.000000 |\n",
       "| chr1:1612720-1613014 |   10.20046 |  0.000000 |  1.020753 |  1.475262 | 0 |  4.226171 |  0.000000 | 0.000000 | 0.0000000 | 0.000000 | 0.000000 |  2.416223 |\n",
       "| chr1:1633566-1633954 |   12.21178 |  6.081245 |  0.000000 |  3.648747 | 0 |  0.000000 |  0.000000 | 0.000000 | 0.0000000 | 0.000000 | 0.000000 |  0.000000 |\n",
       "\n"
      ],
      "text/plain": [
       "                     D00        D04       D07       PP1_2     ENP1 ENP2     \n",
       "chr1:1053227-1053671  199.16021 24.548863  3.213626 45.006250 0    14.587632\n",
       "chr1:1195403-1195746  109.58184  0.000000  2.045739  0.000000 0     0.000000\n",
       "chr1:1205898-1206250   58.35053 10.958184 49.790052 32.874551 0     0.000000\n",
       "chr1:1435354-1435890 2767.72408  0.000000  0.000000  0.000000 0     0.000000\n",
       "chr1:1612720-1613014   10.20046  0.000000  1.020753  1.475262 0     4.226171\n",
       "chr1:1633566-1633954   12.21178  6.081245  0.000000  3.648747 0     0.000000\n",
       "                     ENP3      ENP.Alpha SC.Alpha_D22 SC.Alpha SC.Beta \n",
       "chr1:1053227-1053671 10.958184 0.000000  0.6427252    2.432498 0.000000\n",
       "chr1:1195403-1195746  1.620848 0.000000  0.0000000    0.000000 0.000000\n",
       "chr1:1205898-1206250  0.000000 1.620848  0.0000000    6.137216 1.928175\n",
       "chr1:1435354-1435890  0.000000 0.000000  0.0000000    0.000000 0.000000\n",
       "chr1:1612720-1613014  0.000000 0.000000  0.0000000    0.000000 0.000000\n",
       "chr1:1633566-1633954  0.000000 0.000000  0.0000000    0.000000 0.000000\n",
       "                     SC.EC    \n",
       "chr1:1053227-1053671 16.437275\n",
       "chr1:1195403-1195746  0.000000\n",
       "chr1:1205898-1206250  0.000000\n",
       "chr1:1435354-1435890  0.000000\n",
       "chr1:1612720-1613014  2.416223\n",
       "chr1:1633566-1633954  0.000000"
      ]
     },
     "metadata": {},
     "output_type": "display_data"
    }
   ],
   "source": [
    "data.sort.sub <- data.sort.sub[, reorder]\n",
    "head(data.sort.sub)"
   ]
  },
  {
   "cell_type": "code",
   "execution_count": 16,
   "id": "780fda40",
   "metadata": {},
   "outputs": [
    {
     "data": {
      "image/png": "[encoded data removed]",
      "text/plain": [
       "plot without title"
      ]
     },
     "metadata": {
      "image/png": {
       "height": 180,
       "width": 900
      }
     },
     "output_type": "display_data"
    }
   ],
   "source": [
    "options(repr.plot.width=15, repr.plot.height=3)\n",
    "barplot(fs[rownames(data.sort.sub)], xlab = NA)"
   ]
  },
  {
   "cell_type": "code",
   "execution_count": 17,
   "id": "eae95a6e",
   "metadata": {},
   "outputs": [
    {
     "data": {
      "text/plain": [
       "maxID.sub\n",
       "   1    2    3    4    5    6    7    8    9   10   11   12 \n",
       "1676 5190 3349 5588 3518 4055 3786 5375 4711 4459 5971 2322 "
      ]
     },
     "metadata": {},
     "output_type": "display_data"
    },
    {
     "data": {
      "text/html": [
       "12"
      ],
      "text/latex": [
       "12"
      ],
      "text/markdown": [
       "12"
      ],
      "text/plain": [
       "[1] 12"
      ]
     },
     "metadata": {},
     "output_type": "display_data"
    }
   ],
   "source": [
    "table(maxID.sub);length(table(maxID.sub))"
   ]
  },
  {
   "cell_type": "code",
   "execution_count": 18,
   "id": "5b276fac",
   "metadata": {},
   "outputs": [],
   "source": [
    "saveRDS(nmf_result, file = \"nmf_DNAme3.rds\")"
   ]
  },
  {
   "cell_type": "code",
   "execution_count": 75,
   "id": "6388bce9",
   "metadata": {
    "scrolled": true
   },
   "outputs": [],
   "source": [
    "output_file <- \"module13.bed\"\n",
    "\n",
    "m1_data <- maxID[maxID == 13]\n",
    "write.table(m1_data, file = output_file, quote = FALSE, sep = \"\\t\")"
   ]
  },
  {
   "cell_type": "code",
   "execution_count": null,
   "id": "997fe6c9",
   "metadata": {},
   "outputs": [],
   "source": []
  }
 ],
 "metadata": {
  "kernelspec": {
   "display_name": "R [conda env:.conda-Seurat]",
   "language": "R",
   "name": "conda-env-.conda-Seurat-r"
  },
  "language_info": {
   "codemirror_mode": "r",
   "file_extension": ".r",
   "mimetype": "text/x-r-source",
   "name": "R",
   "pygments_lexer": "r",
   "version": "4.3.1"
  }
 },
 "nbformat": 4,
 "nbformat_minor": 5
}
